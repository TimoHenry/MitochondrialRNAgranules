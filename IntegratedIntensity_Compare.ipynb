{
 "cells": [
  {
   "cell_type": "markdown",
   "metadata": {},
   "source": [
    "<center> <H1> Integrated Intensity Comparison between MRGs before and after fusion </H1> </center>\n",
    "\n",
    "                        *Code written by Timo Rey. Laboratory of Experimental Biophysics, EPFL*\n",
    "                                            *Created 2019 - 20*\n",
    "\n",
    "#### Aims:\n",
    "    Test whether mitochondrial RNA granules loose material upon fusion.\n",
    "#### H0:\n",
    "    Fused MRGs are composed of the sum of both pre-fusion MRGs. \n",
    "#### Approach:\n",
    "    1) Approximate the amount of molecules within each granule before fusion by measuring its integrated intensity (intint).\n",
    "    2) Determine the expected value after fusion as the sum of the intint of all granules that will fuse\n",
    "    3) Measure the intint of the granule after fusion.\n",
    "    4) Compare measured to expected balue"
   ]
  },
  {
   "cell_type": "code",
   "execution_count": 1,
   "metadata": {},
   "outputs": [],
   "source": [
    "# libraries:\n",
    "from pathlib import Path\n",
    "import pandas as pd\n",
    "from glob import glob\n",
    "import os\n",
    "from matplotlib import pyplot as plt\n",
    "import seaborn as sns\n",
    "import numpy as np"
   ]
  },
  {
   "cell_type": "code",
   "execution_count": 2,
   "metadata": {},
   "outputs": [],
   "source": [
    "directory   = Path('C:/Users/Public/Documents/01_Fusion/IntegratedIntensity/Timepoints/')   # specify the path to the input data\n",
    "outDir      = 'C:/Users/Public/Documents/01_Fusion/IntegratedIntensity/Output/'"
   ]
  },
  {
   "cell_type": "code",
   "execution_count": 3,
   "metadata": {},
   "outputs": [],
   "source": [
    "# Define functions:\n",
    "\n",
    "def FindDirs():\n",
    "    all_folders = directory.glob('*')                                # find files with specific ending\n",
    "    dirList = sorted(all_folders)                                    # because 'generator object' (.glob) is not a list  \n",
    "    return dirList\n",
    "\n",
    "def FindData(Folder, extension):\n",
    "    all_csv = Folder.glob('**/*' + extension + '*.csv')              # find files with specific ending\n",
    "    csvList = sorted(all_csv)                                        # because 'generator object' (.glob) is not a list  \n",
    "    return csvList\n",
    "\n",
    "def OpenCsvFromList(csvList, Parser):                                # input = list of files to open + position of file in list \n",
    "    with open(str(csvList[Parser]), 'r') as file:\n",
    "        df = pd.read_csv(file, sep = ',')\n",
    "    return df\n",
    "\n",
    "def CombineData(csvList):\n",
    "    Parser = 0                                                        # can change if do not want to start with first file\n",
    "    Combined_df = pd.DataFrame()                                      # to initiate a df that can be appended to\n",
    "    \n",
    "    while Parser < len(csvList):\n",
    "        next_df = OpenCsvFromList(csvList, Parser)\n",
    "        Combined_df = pd.concat([Combined_df, next_df], ignore_index = True)\n",
    "        Parser += 1\n",
    "    return Combined_df\n",
    "\n",
    "\n",
    "def AnalyseTimepoint(Granule):\n",
    "    # find background level\n",
    "    Bckgrd = Granule[\"Mean\"][Granule[\"Type\"]==\"Background\"]\n",
    "    \n",
    "    # find only granules\n",
    "    Grains = Granule[Granule[\"Type\"]==\"Granule\"]\n",
    "\n",
    "    # correct raw integrated intensities by background subtraction\n",
    "    Grains[\"CorrIntDen\"] = Grains[\"IntDen\"] - Grains[\"Area\"] * float(Bckgrd)\n",
    "    \n",
    "    if len(Grains) > 1:\n",
    "        Type = 'before'\n",
    "    elif len(Grains) == 1:\n",
    "        Type = 'after'\n",
    "    Grains[\"Type\"] = Type\n",
    "    \n",
    "    return Grains"
   ]
  },
  {
   "cell_type": "code",
   "execution_count": 4,
   "metadata": {},
   "outputs": [
    {
     "name": "stderr",
     "output_type": "stream",
     "text": [
      "C:\\Users\\threy\\miniconda3\\lib\\site-packages\\ipykernel_launcher.py:37: SettingWithCopyWarning: \n",
      "A value is trying to be set on a copy of a slice from a DataFrame.\n",
      "Try using .loc[row_indexer,col_indexer] = value instead\n",
      "\n",
      "See the caveats in the documentation: https://pandas.pydata.org/pandas-docs/stable/user_guide/indexing.html#returning-a-view-versus-a-copy\n",
      "C:\\Users\\threy\\miniconda3\\lib\\site-packages\\ipykernel_launcher.py:43: SettingWithCopyWarning: \n",
      "A value is trying to be set on a copy of a slice from a DataFrame.\n",
      "Try using .loc[row_indexer,col_indexer] = value instead\n",
      "\n",
      "See the caveats in the documentation: https://pandas.pydata.org/pandas-docs/stable/user_guide/indexing.html#returning-a-view-versus-a-copy\n"
     ]
    }
   ],
   "source": [
    "# Find all folders (FOVs):\n",
    "ListDirs = FindDirs()\n",
    "\n",
    "# For each FOV:\n",
    "for i in ListDirs:\n",
    "    # find all results tables (for each time-point)\n",
    "    FOVname = os.path.basename(i)\n",
    "    #print(\"starting with \" + FOVname)\n",
    "    Data    = FindData(i, \"Results\")\n",
    "    \n",
    "    # for each time-point:\n",
    "    Parser  = 0\n",
    "    FOV_df  = pd.DataFrame()\n",
    "    \n",
    "    while Parser < len(Data):\n",
    "        # open:\n",
    "        df = OpenCsvFromList(Data, Parser)\n",
    "        # extract & calculate relevant values for all granule (per time-point):\n",
    "        TimePt_df = AnalyseTimepoint(df)\n",
    "        FOV_df = pd.concat([FOV_df, TimePt_df], ignore_index = True)\n",
    "        Parser += 1\n",
    "\n",
    "    # make a new dataframe and copy & compute relevant information \n",
    "    OneFOV = pd.DataFrame()\n",
    "    \n",
    "    OneFOV[\"TimeScale\"] = FOV_df[\"TimeScale\"]\n",
    "    OneFOV[\"FOV\"] = FOVname\n",
    "    \n",
    "    # normalise against average-sum of pre-fusion granules.\n",
    "    Sum       = FOV_df[\"CorrIntDen\"][FOV_df[\"Type\"] == 'before'].sum()        # summed intensity of all pre-fusion timepoints\n",
    "    numbr     = np.asarray(FOV_df[\"Timepoint\"][FOV_df[\"Type\"] == 'before'])   # array of pre-fusion timepoints\n",
    "    numtimPts = len(np.unique(numbr))                                         # number of pre-fusion timepoints\n",
    "    avgSum = Sum / numtimPts                                                  # total-sum / numbr-timepts = average\n",
    "    OneFOV[\"Expected\"] = avgSum                                               # expected = this average.\n",
    "    \n",
    "    # for each time-point:\n",
    "    OneFOV[\"Label\"] = FOV_df[\"Label\"]\n",
    "    OneFOV[\"TimePoint\"] = FOV_df[\"Timepoint\"]\n",
    "    \n",
    "    # for each granule:\n",
    "    OneFOV[\"Type\"] = FOV_df[\"Type\"]\n",
    "    OneFOV[\"Area\"] = FOV_df[\"Area\"]\n",
    "    OneFOV[\"CorrIntDen\"] = FOV_df[\"CorrIntDen\"]\n",
    "    OneFOV[\"NormIntDen\"] = FOV_df[\"CorrIntDen\"] / OneFOV[\"Expected\"]\n",
    "\n",
    "    #print(\"done with that.\")\n",
    "    \n",
    "    OneFOV.to_csv(outDir + FOVname + \"_Results.csv\")"
   ]
  },
  {
   "cell_type": "code",
   "execution_count": 5,
   "metadata": {},
   "outputs": [
    {
     "data": {
      "text/plain": [
       "133"
      ]
     },
     "execution_count": 5,
     "metadata": {},
     "output_type": "execute_result"
    }
   ],
   "source": [
    "# combine all FOVs into 1 file\n",
    "All_FOVs = CombineData(FindData(Path(outDir), \"_Results\"))\n",
    "All_FOVs.drop_duplicates()\n",
    "All_FOVs = All_FOVs.drop(['Unnamed: 0'], axis = 1)\n",
    "All_FOVs.to_csv(outDir + \"oneResult.csv\")\n",
    "len(All_FOVs[\"FOV\"])"
   ]
  },
  {
   "cell_type": "markdown",
   "metadata": {},
   "source": [
    "### make plot:"
   ]
  },
  {
   "cell_type": "code",
   "execution_count": null,
   "metadata": {},
   "outputs": [],
   "source": [
    "# Note: need to manually rank the Results."
   ]
  },
  {
   "cell_type": "code",
   "execution_count": 6,
   "metadata": {},
   "outputs": [
    {
     "ename": "FileNotFoundError",
     "evalue": "[Errno 2] File C:/Users/Public/Documents/01_Fusion/IntegratedIntensity/Output/oneResult_ranked.csv does not exist: 'C:/Users/Public/Documents/01_Fusion/IntegratedIntensity/Output/oneResult_ranked.csv'",
     "output_type": "error",
     "traceback": [
      "\u001b[1;31m---------------------------------------------------------------------------\u001b[0m",
      "\u001b[1;31mFileNotFoundError\u001b[0m                         Traceback (most recent call last)",
      "\u001b[1;32m<ipython-input-6-3c2b1dec81b5>\u001b[0m in \u001b[0;36m<module>\u001b[1;34m\u001b[0m\n\u001b[0;32m      1\u001b[0m \u001b[0mfile\u001b[0m \u001b[1;33m=\u001b[0m \u001b[0moutDir\u001b[0m \u001b[1;33m+\u001b[0m \u001b[1;34m\"oneResult_ranked.csv\"\u001b[0m\u001b[1;33m\u001b[0m\u001b[1;33m\u001b[0m\u001b[0m\n\u001b[1;32m----> 2\u001b[1;33m \u001b[0mdf\u001b[0m   \u001b[1;33m=\u001b[0m \u001b[0mpd\u001b[0m\u001b[1;33m.\u001b[0m\u001b[0mread_csv\u001b[0m\u001b[1;33m(\u001b[0m\u001b[0mfile\u001b[0m\u001b[1;33m,\u001b[0m \u001b[0msep\u001b[0m \u001b[1;33m=\u001b[0m \u001b[1;34m','\u001b[0m\u001b[1;33m)\u001b[0m\u001b[1;33m\u001b[0m\u001b[1;33m\u001b[0m\u001b[0m\n\u001b[0m\u001b[0;32m      3\u001b[0m \u001b[0mdf\u001b[0m \u001b[1;33m=\u001b[0m \u001b[0mdf\u001b[0m\u001b[1;33m.\u001b[0m\u001b[0mdrop\u001b[0m\u001b[1;33m(\u001b[0m\u001b[1;33m[\u001b[0m\u001b[1;34m'Unnamed: 0'\u001b[0m\u001b[1;33m]\u001b[0m\u001b[1;33m,\u001b[0m \u001b[0maxis\u001b[0m \u001b[1;33m=\u001b[0m \u001b[1;36m1\u001b[0m\u001b[1;33m)\u001b[0m\u001b[1;33m\u001b[0m\u001b[1;33m\u001b[0m\u001b[0m\n",
      "\u001b[1;32m~\\miniconda3\\lib\\site-packages\\pandas\\io\\parsers.py\u001b[0m in \u001b[0;36mparser_f\u001b[1;34m(filepath_or_buffer, sep, delimiter, header, names, index_col, usecols, squeeze, prefix, mangle_dupe_cols, dtype, engine, converters, true_values, false_values, skipinitialspace, skiprows, skipfooter, nrows, na_values, keep_default_na, na_filter, verbose, skip_blank_lines, parse_dates, infer_datetime_format, keep_date_col, date_parser, dayfirst, cache_dates, iterator, chunksize, compression, thousands, decimal, lineterminator, quotechar, quoting, doublequote, escapechar, comment, encoding, dialect, error_bad_lines, warn_bad_lines, delim_whitespace, low_memory, memory_map, float_precision)\u001b[0m\n\u001b[0;32m    674\u001b[0m         )\n\u001b[0;32m    675\u001b[0m \u001b[1;33m\u001b[0m\u001b[0m\n\u001b[1;32m--> 676\u001b[1;33m         \u001b[1;32mreturn\u001b[0m \u001b[0m_read\u001b[0m\u001b[1;33m(\u001b[0m\u001b[0mfilepath_or_buffer\u001b[0m\u001b[1;33m,\u001b[0m \u001b[0mkwds\u001b[0m\u001b[1;33m)\u001b[0m\u001b[1;33m\u001b[0m\u001b[1;33m\u001b[0m\u001b[0m\n\u001b[0m\u001b[0;32m    677\u001b[0m \u001b[1;33m\u001b[0m\u001b[0m\n\u001b[0;32m    678\u001b[0m     \u001b[0mparser_f\u001b[0m\u001b[1;33m.\u001b[0m\u001b[0m__name__\u001b[0m \u001b[1;33m=\u001b[0m \u001b[0mname\u001b[0m\u001b[1;33m\u001b[0m\u001b[1;33m\u001b[0m\u001b[0m\n",
      "\u001b[1;32m~\\miniconda3\\lib\\site-packages\\pandas\\io\\parsers.py\u001b[0m in \u001b[0;36m_read\u001b[1;34m(filepath_or_buffer, kwds)\u001b[0m\n\u001b[0;32m    446\u001b[0m \u001b[1;33m\u001b[0m\u001b[0m\n\u001b[0;32m    447\u001b[0m     \u001b[1;31m# Create the parser.\u001b[0m\u001b[1;33m\u001b[0m\u001b[1;33m\u001b[0m\u001b[1;33m\u001b[0m\u001b[0m\n\u001b[1;32m--> 448\u001b[1;33m     \u001b[0mparser\u001b[0m \u001b[1;33m=\u001b[0m \u001b[0mTextFileReader\u001b[0m\u001b[1;33m(\u001b[0m\u001b[0mfp_or_buf\u001b[0m\u001b[1;33m,\u001b[0m \u001b[1;33m**\u001b[0m\u001b[0mkwds\u001b[0m\u001b[1;33m)\u001b[0m\u001b[1;33m\u001b[0m\u001b[1;33m\u001b[0m\u001b[0m\n\u001b[0m\u001b[0;32m    449\u001b[0m \u001b[1;33m\u001b[0m\u001b[0m\n\u001b[0;32m    450\u001b[0m     \u001b[1;32mif\u001b[0m \u001b[0mchunksize\u001b[0m \u001b[1;32mor\u001b[0m \u001b[0miterator\u001b[0m\u001b[1;33m:\u001b[0m\u001b[1;33m\u001b[0m\u001b[1;33m\u001b[0m\u001b[0m\n",
      "\u001b[1;32m~\\miniconda3\\lib\\site-packages\\pandas\\io\\parsers.py\u001b[0m in \u001b[0;36m__init__\u001b[1;34m(self, f, engine, **kwds)\u001b[0m\n\u001b[0;32m    878\u001b[0m             \u001b[0mself\u001b[0m\u001b[1;33m.\u001b[0m\u001b[0moptions\u001b[0m\u001b[1;33m[\u001b[0m\u001b[1;34m\"has_index_names\"\u001b[0m\u001b[1;33m]\u001b[0m \u001b[1;33m=\u001b[0m \u001b[0mkwds\u001b[0m\u001b[1;33m[\u001b[0m\u001b[1;34m\"has_index_names\"\u001b[0m\u001b[1;33m]\u001b[0m\u001b[1;33m\u001b[0m\u001b[1;33m\u001b[0m\u001b[0m\n\u001b[0;32m    879\u001b[0m \u001b[1;33m\u001b[0m\u001b[0m\n\u001b[1;32m--> 880\u001b[1;33m         \u001b[0mself\u001b[0m\u001b[1;33m.\u001b[0m\u001b[0m_make_engine\u001b[0m\u001b[1;33m(\u001b[0m\u001b[0mself\u001b[0m\u001b[1;33m.\u001b[0m\u001b[0mengine\u001b[0m\u001b[1;33m)\u001b[0m\u001b[1;33m\u001b[0m\u001b[1;33m\u001b[0m\u001b[0m\n\u001b[0m\u001b[0;32m    881\u001b[0m \u001b[1;33m\u001b[0m\u001b[0m\n\u001b[0;32m    882\u001b[0m     \u001b[1;32mdef\u001b[0m \u001b[0mclose\u001b[0m\u001b[1;33m(\u001b[0m\u001b[0mself\u001b[0m\u001b[1;33m)\u001b[0m\u001b[1;33m:\u001b[0m\u001b[1;33m\u001b[0m\u001b[1;33m\u001b[0m\u001b[0m\n",
      "\u001b[1;32m~\\miniconda3\\lib\\site-packages\\pandas\\io\\parsers.py\u001b[0m in \u001b[0;36m_make_engine\u001b[1;34m(self, engine)\u001b[0m\n\u001b[0;32m   1112\u001b[0m     \u001b[1;32mdef\u001b[0m \u001b[0m_make_engine\u001b[0m\u001b[1;33m(\u001b[0m\u001b[0mself\u001b[0m\u001b[1;33m,\u001b[0m \u001b[0mengine\u001b[0m\u001b[1;33m=\u001b[0m\u001b[1;34m\"c\"\u001b[0m\u001b[1;33m)\u001b[0m\u001b[1;33m:\u001b[0m\u001b[1;33m\u001b[0m\u001b[1;33m\u001b[0m\u001b[0m\n\u001b[0;32m   1113\u001b[0m         \u001b[1;32mif\u001b[0m \u001b[0mengine\u001b[0m \u001b[1;33m==\u001b[0m \u001b[1;34m\"c\"\u001b[0m\u001b[1;33m:\u001b[0m\u001b[1;33m\u001b[0m\u001b[1;33m\u001b[0m\u001b[0m\n\u001b[1;32m-> 1114\u001b[1;33m             \u001b[0mself\u001b[0m\u001b[1;33m.\u001b[0m\u001b[0m_engine\u001b[0m \u001b[1;33m=\u001b[0m \u001b[0mCParserWrapper\u001b[0m\u001b[1;33m(\u001b[0m\u001b[0mself\u001b[0m\u001b[1;33m.\u001b[0m\u001b[0mf\u001b[0m\u001b[1;33m,\u001b[0m \u001b[1;33m**\u001b[0m\u001b[0mself\u001b[0m\u001b[1;33m.\u001b[0m\u001b[0moptions\u001b[0m\u001b[1;33m)\u001b[0m\u001b[1;33m\u001b[0m\u001b[1;33m\u001b[0m\u001b[0m\n\u001b[0m\u001b[0;32m   1115\u001b[0m         \u001b[1;32melse\u001b[0m\u001b[1;33m:\u001b[0m\u001b[1;33m\u001b[0m\u001b[1;33m\u001b[0m\u001b[0m\n\u001b[0;32m   1116\u001b[0m             \u001b[1;32mif\u001b[0m \u001b[0mengine\u001b[0m \u001b[1;33m==\u001b[0m \u001b[1;34m\"python\"\u001b[0m\u001b[1;33m:\u001b[0m\u001b[1;33m\u001b[0m\u001b[1;33m\u001b[0m\u001b[0m\n",
      "\u001b[1;32m~\\miniconda3\\lib\\site-packages\\pandas\\io\\parsers.py\u001b[0m in \u001b[0;36m__init__\u001b[1;34m(self, src, **kwds)\u001b[0m\n\u001b[0;32m   1889\u001b[0m         \u001b[0mkwds\u001b[0m\u001b[1;33m[\u001b[0m\u001b[1;34m\"usecols\"\u001b[0m\u001b[1;33m]\u001b[0m \u001b[1;33m=\u001b[0m \u001b[0mself\u001b[0m\u001b[1;33m.\u001b[0m\u001b[0musecols\u001b[0m\u001b[1;33m\u001b[0m\u001b[1;33m\u001b[0m\u001b[0m\n\u001b[0;32m   1890\u001b[0m \u001b[1;33m\u001b[0m\u001b[0m\n\u001b[1;32m-> 1891\u001b[1;33m         \u001b[0mself\u001b[0m\u001b[1;33m.\u001b[0m\u001b[0m_reader\u001b[0m \u001b[1;33m=\u001b[0m \u001b[0mparsers\u001b[0m\u001b[1;33m.\u001b[0m\u001b[0mTextReader\u001b[0m\u001b[1;33m(\u001b[0m\u001b[0msrc\u001b[0m\u001b[1;33m,\u001b[0m \u001b[1;33m**\u001b[0m\u001b[0mkwds\u001b[0m\u001b[1;33m)\u001b[0m\u001b[1;33m\u001b[0m\u001b[1;33m\u001b[0m\u001b[0m\n\u001b[0m\u001b[0;32m   1892\u001b[0m         \u001b[0mself\u001b[0m\u001b[1;33m.\u001b[0m\u001b[0munnamed_cols\u001b[0m \u001b[1;33m=\u001b[0m \u001b[0mself\u001b[0m\u001b[1;33m.\u001b[0m\u001b[0m_reader\u001b[0m\u001b[1;33m.\u001b[0m\u001b[0munnamed_cols\u001b[0m\u001b[1;33m\u001b[0m\u001b[1;33m\u001b[0m\u001b[0m\n\u001b[0;32m   1893\u001b[0m \u001b[1;33m\u001b[0m\u001b[0m\n",
      "\u001b[1;32mpandas\\_libs\\parsers.pyx\u001b[0m in \u001b[0;36mpandas._libs.parsers.TextReader.__cinit__\u001b[1;34m()\u001b[0m\n",
      "\u001b[1;32mpandas\\_libs\\parsers.pyx\u001b[0m in \u001b[0;36mpandas._libs.parsers.TextReader._setup_parser_source\u001b[1;34m()\u001b[0m\n",
      "\u001b[1;31mFileNotFoundError\u001b[0m: [Errno 2] File C:/Users/Public/Documents/01_Fusion/IntegratedIntensity/Output/oneResult_ranked.csv does not exist: 'C:/Users/Public/Documents/01_Fusion/IntegratedIntensity/Output/oneResult_ranked.csv'"
     ]
    }
   ],
   "source": [
    "file = outDir + \"oneResult_ranked.csv\"\n",
    "df   = pd.read_csv(file, sep = ',')\n",
    "df = df.drop(['Unnamed: 0'], axis = 1)"
   ]
  },
  {
   "cell_type": "code",
   "execution_count": 36,
   "metadata": {},
   "outputs": [
    {
     "data": {
      "image/png": "[encoded data removed]",
      "text/plain": [
       "<Figure size 864x432 with 1 Axes>"
      ]
     },
     "metadata": {
      "needs_background": "light"
     },
     "output_type": "display_data"
    }
   ],
   "source": [
    "f,ax = plt.subplots(figsize = (12,6))\n",
    "sns.pointplot(x=\"Rank\", y=\"NormIntDen\", data=df, linestyles='dotted', scale=0.4, color='k', errwidth=0, capsize=0)\n",
    "sns.pointplot(x=\"Rank\", y=\"NormIntDen\", data=df, linestyles='', scale=1, palette = ['m', 'm', 'm', 'm', 'lime', 'lime', 'lime', 'lime'], errwidth=1, capsize=0.3)\n",
    "plt.plot(np.linspace(0,8,8), np.linspace(1,1,8), '--', color = 'gray')\n",
    "plt.xlabel(\"time\")\n",
    "plt.ylabel(\"Normalised intensity\")\n",
    "plt.title(\"Integrated Intensity upon droplet fusion\");\n",
    "plt.savefig(outDir+'IntegratedIntensity_Time.svg')"
   ]
  }
 ],
 "metadata": {
  "kernelspec": {
   "display_name": "Python 3",
   "language": "python",
   "name": "python3"
  },
  "language_info": {
   "codemirror_mode": {
    "name": "ipython",
    "version": 3
   },
   "file_extension": ".py",
   "mimetype": "text/x-python",
   "name": "python",
   "nbconvert_exporter": "python",
   "pygments_lexer": "ipython3",
   "version": "3.7.4"
  }
 },
 "nbformat": 4,
 "nbformat_minor": 2
}

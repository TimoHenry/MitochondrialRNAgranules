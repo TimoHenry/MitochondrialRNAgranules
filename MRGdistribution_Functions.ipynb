{
 "cells": [
  {
   "cell_type": "markdown",
   "metadata": {},
   "source": [
    "<center> <H1> Functions for Ganule distribution analysis </H1> </center>\n",
    "\n",
    "\n",
    "\n",
    "                        *Code written by Timo Rey. Laboratory of Experimental Biophysics, EPFL*\n",
    "\n",
    "                                            *Created during revisions in 2019/20*\n",
    "\n",
    "\n",
    "\n",
    "#### Aims:\n",
    "    Provide most functions necessary to analyse and compare the distribution of granules inside mitochondria compared to a random distribution. This should allow to keep the analysis work-book clean.\n",
    "    \n",
    "#### Use:\n",
    "    This code can be called from other (jupyter notebook) python scripts to use the functions in further analysis.\n",
    "#### Libraries:"
   ]
  },
  {
   "cell_type": "code",
   "execution_count": null,
   "metadata": {},
   "outputs": [],
   "source": [
    "import numpy as np\n",
    "import matplotlib.pyplot as plt\n",
    "%matplotlib inline\n",
    "from pathlib import Path\n",
    "import pprint\n",
    "import pandas as pd\n",
    "import warnings\n",
    "warnings.filterwarnings('ignore')\n",
    "import itertools\n",
    "from scipy import stats"
   ]
  },
  {
   "cell_type": "markdown",
   "metadata": {},
   "source": [
    "### 1) Functions for finding & opening the files"
   ]
  },
  {
   "cell_type": "code",
   "execution_count": null,
   "metadata": {},
   "outputs": [],
   "source": [
    "# load data with specific extension:\n",
    "def FindData(directory, extension, random = False):\n",
    "    folders = Path(directory)\n",
    "    all_csv = folders.glob('**/*' + extension + '*.csv')             # find files with specific ending\n",
    "    csvList = sorted(all_csv)                                        # because 'generator object' (.glob) is not a list\n",
    "\n",
    "    if random != False:\n",
    "        print(\"There are %r files with the extension %r.\" %(len(csvList), extension))\n",
    "        print(\"\\nThey are:\\n\")\n",
    "        pp = pprint.PrettyPrinter(indent = 1)\n",
    "        pp.pprint(list(zip(csvList, range(len(csvList)))))\n",
    "    \n",
    "    return csvList                                                   # returns parsed list\n",
    "#MitoData = FindData('MRGs', True)                                   # unhash to call this function"
   ]
  },
  {
   "cell_type": "code",
   "execution_count": null,
   "metadata": {},
   "outputs": [],
   "source": [
    "# Read file:\n",
    "def OpenCsvFromList(csvList, Parser):                                # input = list of files to open + position of file in list \n",
    "    with open(str(csvList[Parser]), 'r') as file:\n",
    "        df = pd.read_csv(file, sep = ',')\n",
    "    return df                                                        # returns dataframe\n",
    "#mito_df = OpenCsvFromList(MitoData, Parser)                         # unhash to call this function"
   ]
  },
  {
   "cell_type": "code",
   "execution_count": null,
   "metadata": {},
   "outputs": [],
   "source": [
    "# Extract relevant data into new file:\n",
    "def CombineData(csvList):\n",
    "    Parser = 0                                                       # can change if do not want to start with first file\n",
    "    Combined_df = pd.DataFrame()                                     # to initiate a df that can be appended to\n",
    "    \n",
    "    while Parser < len(csvList):\n",
    "        next_df = OpenCsvFromList(csvList, Parser)\n",
    "        Combined_df = pd.concat([Combined_df, next_df], ignore_index = True)\n",
    "        Parser += 1\n",
    "        \n",
    "    return Combined_df                                              # returns data-frame\n",
    "#mito_df = CombinedData(MitoData)                                   # unhash to call this function"
   ]
  },
  {
   "cell_type": "code",
   "execution_count": null,
   "metadata": {},
   "outputs": [],
   "source": [
    "# Extract relevant data into new file:\n",
    "def CombineData(csvList):\n",
    "    Parser = 0                                                       # can change if do not want to start with first file\n",
    "    Combined_df = pd.DataFrame()                                     # to initiate a df that can be appended to\n",
    "    \n",
    "    while Parser < len(csvList):\n",
    "        next_df = OpenCsvFromList(csvList, Parser)\n",
    "        Combined_df = pd.concat([Combined_df, next_df], ignore_index = True)\n",
    "        Parser += 1\n",
    "        \n",
    "    return Combined_df                                              # returns data-frame\n",
    "#mito_df = CombinedData(MitoData)  "
   ]
  },
  {
   "cell_type": "code",
   "execution_count": null,
   "metadata": {},
   "outputs": [],
   "source": [
    "# filter input-dataframe (list of mitos) by value [& keep particular columns]:\n",
    "def FilterIsValue(df, filter_by ,value):\n",
    "    out_df = df[df[filter_by]==value][['IMAGE', 'NAME', 'SHAPE.length', 'MAXIMA']]\n",
    "    return out_df"
   ]
  },
  {
   "cell_type": "code",
   "execution_count": null,
   "metadata": {},
   "outputs": [],
   "source": [
    "# filter input-dataframe (list of mitos) by value [& keep particular columns]:\n",
    "def FilterBiggerThan(df, filter_by ,value):\n",
    "    out_df = df[df[filter_by]>value]\n",
    "    return out_df"
   ]
  },
  {
   "cell_type": "code",
   "execution_count": null,
   "metadata": {},
   "outputs": [],
   "source": [
    "# filter input-dataframe (list of mitos) by value [& keep particular columns]:\n",
    "def FilterSmallerThan(df, filter_by ,value):\n",
    "    out_df = df[df[filter_by]<value]\n",
    "    return out_df"
   ]
  },
  {
   "cell_type": "code",
   "execution_count": null,
   "metadata": {},
   "outputs": [],
   "source": [
    "# find children & extract their positions:\n",
    "def FindPositions(df_box, df_particles):\n",
    "    \"\"\" Warning: this function is very sensitive to format of input files (the order of columns)! \"\"\"\n",
    "\n",
    "    out_df = pd.DataFrame()                                         # create empty data-frame\n",
    "    count = 0\n",
    "\n",
    "    while count < len(df_box):                                      # for each straight mitochondrion\n",
    "        relevant = []                                               # create empty list to store relevant MRG-IDs\n",
    "\n",
    "        for i in df_particles.itertuples():                         # check all MRGs\n",
    "            if i[8] == df_box.iloc[count,1] and i[2] == df_box.iloc[count,0]: # if PARENT.Name & IMAGE are the same\n",
    "                relevant.append(i[0])                               # remember dataframe_ID\n",
    "    \n",
    "        positions = []                                              # create empty list to store MRG-positions\n",
    "        for ids in relevant:                                        # for all relevant MRGs\n",
    "            positions.append(df_particles.iloc[ids, 9])             # add parent.distance.pole1\n",
    "\n",
    "        next_df = pd.DataFrame([[df_box.iloc[count,0],df_box.iloc[count,1], df_box.iloc[count,2],df_box.iloc[count,3], positions]], columns = ('IMAGE','Parent','Length','Particles', 'positions'))\n",
    "        out_df = pd.concat([out_df, next_df])                       # add new row to out_df\n",
    "    \n",
    "        count += 1\n",
    "    \n",
    "    return out_df"
   ]
  },
  {
   "cell_type": "code",
   "execution_count": null,
   "metadata": {},
   "outputs": [],
   "source": [
    "def LoadObservations(keys = ['_Mito', '_MRGs'], withMRGs = True, twoPoles = True):         # note: default values are overruled if alternatives are provided\n",
    "    # Find data with particular ending given as keys:\n",
    "    mitoData          = FindData(input_directory, str(keys[0]))            # can add additional argument 'True' to see list   \n",
    "    GranuleData       = FindData(input_directory, str(keys[1]))\n",
    "\n",
    "    # Return 1 dataframe for each type of input-data:\n",
    "    Mito_df           = CombineData(mitoData)\n",
    "    Granule_df        = CombineData(GranuleData)\n",
    "    \n",
    "    if twoPoles:\n",
    "        # Filter for mitochondria with only 2 poles:\n",
    "        straightMito      = FilterIsValue(Mito_df, 'SHAPE.pole', 2)           # variables needed: input df, criterion (column name), value to filter by\n",
    "    else:\n",
    "        print(\"ERROR: If you want to analyse mitochondria with more than two poles, please revise workflow.\")\n",
    "        \n",
    "    if withMRGs:\n",
    "        # Filter for mitochondria with MRGs:\n",
    "        withMrgs      = FilterBiggerThan(straightMito, 'MAXIMA' , 0)\n",
    "        Observed_dist = FindPositions(withMrgs, Granule_df)                # need box_df & particle_df\n",
    "    else:\n",
    "        Observed_dist = FindPositions(straightMito, Granule_df)\n",
    "\n",
    "    # Find positions of MRGs within straightMito:\n",
    "    Observed_dist     = Observed_dist.reset_index(drop = True)\n",
    "    \n",
    "    return Observed_dist"
   ]
  },
  {
   "cell_type": "code",
   "execution_count": null,
   "metadata": {},
   "outputs": [],
   "source": [
    "def RelevantObservations(keys = ['_Mito', '_MRGs'], withMRGs = True,):\n",
    "    # Find & load experimental data\n",
    "    df = LoadObservations(keys, withMRGs)\n",
    "    # Finding negative values:\n",
    "    to_remove = []\n",
    "    for i in range(len(df)):\n",
    "        for j in df.loc[i,'positions']:\n",
    "            if j < 0:\n",
    "                #print(\"row #\" + str(i) + \" contains negative values and was removed.\")\n",
    "                #print(observations.loc[i,'IMAGE'])\n",
    "                #print(observations.loc[i,'Parent'])\n",
    "                to_remove.append(i)\n",
    "    # remove mitochondria with negative values:\n",
    "    df_out = df.drop(to_remove)\n",
    "    df_out = df_out.reset_index(drop = True)\n",
    "    return df_out"
   ]
  },
  {
   "cell_type": "markdown",
   "metadata": {},
   "source": [
    "### 2) Functions to create simulations"
   ]
  },
  {
   "cell_type": "code",
   "execution_count": null,
   "metadata": {},
   "outputs": [],
   "source": [
    "def sim_creator(observed_object):\n",
    "    simulation_keeper = []\n",
    "    \n",
    "    for i in range(len(observed_object)):\n",
    "        length        = observed_object[i].Box\n",
    "        granules      = observed_object[i].Particles\n",
    "        \n",
    "        # create simulation object:\n",
    "        simulation    = RandomSimulation(Name='test_ID_'+str(i), Box=[length], Particles=granules)\n",
    "        simulation_keeper.append(simulation)                        # collect all simulation objects in a list\n",
    "\n",
    "    return simulation_keeper                                        # returns list containing all simulation objects        "
   ]
  },
  {
   "cell_type": "code",
   "execution_count": null,
   "metadata": {},
   "outputs": [],
   "source": [
    "# Potentially retired function below:"
   ]
  },
  {
   "cell_type": "code",
   "execution_count": null,
   "metadata": {},
   "outputs": [],
   "source": [
    "#create simulation-objects using observed mitochondria as constraints:\n",
    "def simulation_creator(Observations_df):\n",
    "    simulation_keeper = []                                          # empty list to keep all simulation-objects\n",
    "\n",
    "    for i in range(len(Observations_df)):                           # for each observed mitochondrion\n",
    "        length        = Observations_df.loc[i, 'Length']            # use the mitochondrial length\n",
    "        granules      = Observations_df.loc[i, 'Particles']         # and the number of particles as constraints\n",
    "\n",
    "        # create simulation object:\n",
    "        simulation    = RandomSimulation(Name='test_ID_'+str(i), Box=[length], Particles=granules)\n",
    "        simulation_keeper.append(simulation)                        # collect all simulation objects in a list\n",
    "\n",
    "    return simulation_keeper                                        # returns list containing all simulation objects"
   ]
  },
  {
   "cell_type": "markdown",
   "metadata": {},
   "source": [
    "### 3) Functions to create observed objects"
   ]
  },
  {
   "cell_type": "code",
   "execution_count": null,
   "metadata": {},
   "outputs": [],
   "source": [
    "# create observation-object for each observed mitochondrion:\n",
    "def observation_creator(Observations_df):\n",
    "    observation_keeper = []\n",
    "\n",
    "    for i in range(len(Observations_df)):\n",
    "        length      = Observations_df.loc[i, 'Length']\n",
    "        Image_ID    = Observations_df.loc[i, 'IMAGE']\n",
    "        Parent_Name = Observations_df.loc[i, 'Parent']\n",
    "        Particles   = Observations_df.loc[i, 'Particles']\n",
    "        Positions   = Observations_df.loc[i, 'positions']\n",
    "\n",
    "        observation = SingleObservation(Name='mito_ID_'+str(i), Box=[length], Particles=Particles, Positions=Positions, Image_ID=Image_ID, Parent_Name=Parent_Name)\n",
    "        observation_keeper.append(observation)\n",
    "\n",
    "    return observation_keeper"
   ]
  },
  {
   "cell_type": "markdown",
   "metadata": {},
   "source": [
    "### 4) Functions to compare observations with simulations"
   ]
  },
  {
   "cell_type": "code",
   "execution_count": 1,
   "metadata": {},
   "outputs": [],
   "source": [
    "# Determine ratio of distances that satisfy cut-off conditions:\n",
    "def NN_ratio(data, cut_off):\n",
    "    counts = 0\n",
    "    for i in data:\n",
    "        if i < cut_off:\n",
    "            counts += 1\n",
    "    ratio = counts/len(data)\n",
    "    return ratio"
   ]
  },
  {
   "cell_type": "code",
   "execution_count": null,
   "metadata": {},
   "outputs": [],
   "source": [
    "# plot particle distribution:\n",
    "def particle_distribution(data, data_title, bins=None , c='magenta'):\n",
    "\n",
    "    plt.figure()\n",
    "    plt.title(\"Particle distribution of \" + data_title)\n",
    "    data = np.reshape(data, -1)\n",
    "    sns.distplot(data, color = c, bins=bins, kde=False)"
   ]
  },
  {
   "cell_type": "markdown",
   "metadata": {},
   "source": [
    "### 5) Functions to make plots"
   ]
  },
  {
   "cell_type": "markdown",
   "metadata": {},
   "source": [
    "https://stackoverflow.com/questions/36578458/how-does-one-insert-statistical-annotations-stars-or-p-values-into-matplotlib"
   ]
  },
  {
   "cell_type": "code",
   "execution_count": null,
   "metadata": {},
   "outputs": [],
   "source": [
    "def plotCorr(df, value = 'Length'):\n",
    "    # Assess correlation between MRG-number & mitochondrial size:\n",
    "    fig, ax = plt.subplots(figsize = (12,5))\n",
    "\n",
    "    # bin mitochondrial lengths:\n",
    "    X = round(df[value]) \n",
    "\n",
    "    # plot data-distribution:\n",
    "    sns.boxplot(x = X, y = df['Particles'], color = 'grey', linewidth = 3)\n",
    "    ax.set(xlabel = \"Mitochondrial \"+ value + \" in [um]\", ylabel = \"# MRGs\")\n",
    "    ax.tick_params(left = False, bottom = False)\n",
    "\n",
    "    # plot regression-fit [first degree polynomial]:\n",
    "    fit = np.polyfit(df[value], df['Particles'], deg=1)\n",
    "    p   = np.poly1d(fit)\n",
    "    xp  = np.linspace(0, 13, 10)\n",
    "    ax.plot(xp, p(xp), '--', color = 'r')\n",
    "\n",
    "    # compute correlation coefficient:\n",
    "    correlation = np.corrcoef(df[value], df['Particles'])\n",
    "    ax.text(0,6.5, \"corrCoeff: \" + str(round(correlation[0,1], 3)), fontsize=12)\n",
    "    print('Correlation Coefficient between mitochondrial '+value+' and # MRGs = ', correlation[0,1])\n",
    "    \n",
    "    return fig"
   ]
  }
 ],
 "metadata": {
  "kernelspec": {
   "display_name": "Python 3",
   "language": "python",
   "name": "python3"
  },
  "language_info": {
   "codemirror_mode": {
    "name": "ipython",
    "version": 3
   },
   "file_extension": ".py",
   "mimetype": "text/x-python",
   "name": "python",
   "nbconvert_exporter": "python",
   "pygments_lexer": "ipython3",
   "version": "3.7.4"
  }
 },
 "nbformat": 4,
 "nbformat_minor": 2
}
